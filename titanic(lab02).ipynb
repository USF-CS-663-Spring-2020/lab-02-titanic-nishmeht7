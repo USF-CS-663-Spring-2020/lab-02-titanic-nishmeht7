{
  "nbformat": 4,
  "nbformat_minor": 0,
  "metadata": {
    "colab": {
      "name": "Untitled1.ipynb",
      "provenance": []
    },
    "kernelspec": {
      "name": "python3",
      "display_name": "Python 3"
    },
    "accelerator": "GPU"
  },
  "cells": [
    {
      "cell_type": "code",
      "metadata": {
        "id": "SyeN11Lp8jUE",
        "colab_type": "code",
        "colab": {}
      },
      "source": [
        "import pandas as pd\n",
        "import seaborn as sns"
      ],
      "execution_count": 0,
      "outputs": []
    },
    {
      "cell_type": "code",
      "metadata": {
        "id": "rvpmmQwC8uTK",
        "colab_type": "code",
        "colab": {}
      },
      "source": [
        "# reading in the csv\n",
        "df = pd.read_csv(\"titanic.csv\")"
      ],
      "execution_count": 0,
      "outputs": []
    },
    {
      "cell_type": "code",
      "metadata": {
        "id": "uzZVh0aZ8-x-",
        "colab_type": "code",
        "colab": {}
      },
      "source": [
        "# printing it out to ensure it's stored in df\n",
        "df"
      ],
      "execution_count": 0,
      "outputs": []
    },
    {
      "cell_type": "code",
      "metadata": {
        "id": "5EBBV-k88_kk",
        "colab_type": "code",
        "colab": {}
      },
      "source": [
        "# inspect data to check column names, values and data integrity\n",
        "df.describe()"
      ],
      "execution_count": 0,
      "outputs": []
    },
    {
      "cell_type": "code",
      "metadata": {
        "id": "Uj40cdD29iBF",
        "colab_type": "code",
        "colab": {
          "base_uri": "https://localhost:8080/",
          "height": 179
        },
        "outputId": "32825d42-e31c-4a2d-f106-dbc8655de848"
      },
      "source": [
        "# inspecting data further\n",
        "df['Fare'].describe()\n",
        "# this shows us the range of the fare, from 0 to 512.3\n",
        "# also shows us the mean amount which was 32.3"
      ],
      "execution_count": 9,
      "outputs": [
        {
          "output_type": "execute_result",
          "data": {
            "text/plain": [
              "count    887.00000\n",
              "mean      32.30542\n",
              "std       49.78204\n",
              "min        0.00000\n",
              "25%        7.92500\n",
              "50%       14.45420\n",
              "75%       31.13750\n",
              "max      512.32920\n",
              "Name: Fare, dtype: float64"
            ]
          },
          "metadata": {
            "tags": []
          },
          "execution_count": 9
        }
      ]
    },
    {
      "cell_type": "code",
      "metadata": {
        "id": "5-yvNc719BZh",
        "colab_type": "code",
        "colab": {
          "base_uri": "https://localhost:8080/",
          "height": 297
        },
        "outputId": "038a5f9c-ed83-47be-eb55-3418cd27bc6e"
      },
      "source": [
        "# draw a box plot to inspect comparison between survival and fare amount\n",
        "sns.boxplot(x='Survived', y='Fare', data=df)\n"
      ],
      "execution_count": 10,
      "outputs": [
        {
          "output_type": "execute_result",
          "data": {
            "text/plain": [
              "<matplotlib.axes._subplots.AxesSubplot at 0x7f04b37eb4a8>"
            ]
          },
          "metadata": {
            "tags": []
          },
          "execution_count": 10
        },
        {
          "output_type": "display_data",
          "data": {
            "image/png": "[encoded data removed]",
            "text/plain": [
              "<Figure size 432x288 with 1 Axes>"
            ]
          },
          "metadata": {
            "tags": []
          }
        }
      ]
    },
    {
      "cell_type": "markdown",
      "metadata": {
        "id": "2zrV5BB0TlU8",
        "colab_type": "text"
      },
      "source": [
        "This box plot shows us pretty clearly that the majority range of the survivors' ticket fare was between 0 to around $130 plus some outliers, while the range of the people who didn't survive, their ticket fare was between 0 to around 75. \n",
        "\n",
        "This clearly paints a picture of how paying for a more expensive ticket automatically increased your chances of surviving. "
      ]
    },
    {
      "cell_type": "code",
      "metadata": {
        "id": "y2XcwGTkWnpY",
        "colab_type": "code",
        "colab": {
          "base_uri": "https://localhost:8080/",
          "height": 142
        },
        "outputId": "dac04c06-7874-4d22-a69d-0dbf4bb10781"
      },
      "source": [
        "# just decribing the fare against survivors shows us the box plots picture along with the quantities\n",
        "df.groupby(\"Survived\").Fare.describe()"
      ],
      "execution_count": 19,
      "outputs": [
        {
          "output_type": "execute_result",
          "data": {
            "text/html": [
              "<div>\n",
              "<style scoped>\n",
              "    .dataframe tbody tr th:only-of-type {\n",
              "        vertical-align: middle;\n",
              "    }\n",
              "\n",
              "    .dataframe tbody tr th {\n",
              "        vertical-align: top;\n",
              "    }\n",
              "\n",
              "    .dataframe thead th {\n",
              "        text-align: right;\n",
              "    }\n",
              "</style>\n",
              "<table border=\"1\" class=\"dataframe\">\n",
              "  <thead>\n",
              "    <tr style=\"text-align: right;\">\n",
              "      <th></th>\n",
              "      <th>count</th>\n",
              "      <th>mean</th>\n",
              "      <th>std</th>\n",
              "      <th>min</th>\n",
              "      <th>25%</th>\n",
              "      <th>50%</th>\n",
              "      <th>75%</th>\n",
              "      <th>max</th>\n",
              "    </tr>\n",
              "    <tr>\n",
              "      <th>Survived</th>\n",
              "      <th></th>\n",
              "      <th></th>\n",
              "      <th></th>\n",
              "      <th></th>\n",
              "      <th></th>\n",
              "      <th></th>\n",
              "      <th></th>\n",
              "      <th></th>\n",
              "    </tr>\n",
              "  </thead>\n",
              "  <tbody>\n",
              "    <tr>\n",
              "      <th>0</th>\n",
              "      <td>545.0</td>\n",
              "      <td>22.208584</td>\n",
              "      <td>31.484153</td>\n",
              "      <td>0.0</td>\n",
              "      <td>7.8542</td>\n",
              "      <td>10.5</td>\n",
              "      <td>26.0</td>\n",
              "      <td>263.0000</td>\n",
              "    </tr>\n",
              "    <tr>\n",
              "      <th>1</th>\n",
              "      <td>342.0</td>\n",
              "      <td>48.395408</td>\n",
              "      <td>66.596998</td>\n",
              "      <td>0.0</td>\n",
              "      <td>12.4750</td>\n",
              "      <td>26.0</td>\n",
              "      <td>57.0</td>\n",
              "      <td>512.3292</td>\n",
              "    </tr>\n",
              "  </tbody>\n",
              "</table>\n",
              "</div>"
            ],
            "text/plain": [
              "          count       mean        std  min      25%   50%   75%       max\n",
              "Survived                                                                 \n",
              "0         545.0  22.208584  31.484153  0.0   7.8542  10.5  26.0  263.0000\n",
              "1         342.0  48.395408  66.596998  0.0  12.4750  26.0  57.0  512.3292"
            ]
          },
          "metadata": {
            "tags": []
          },
          "execution_count": 19
        }
      ]
    },
    {
      "cell_type": "markdown",
      "metadata": {
        "id": "Vg5g55qMWxZS",
        "colab_type": "text"
      },
      "source": [
        "This definitively shows the disparity between the rich and the poor.\n",
        "Those who survived paid a mean ticket price of 48.4 while those who died paid a mean price less than half amounting to 22.3\n",
        "\n",
        "The max price of a ticket paid by a person who didn't survive was 263. Which means that everyone who paid above 263 up to 512, survived 100%!!"
      ]
    },
    {
      "cell_type": "code",
      "metadata": {
        "id": "PsjnjOStRC6w",
        "colab_type": "code",
        "colab": {
          "base_uri": "https://localhost:8080/",
          "height": 297
        },
        "outputId": "4beec1e9-ca80-4f06-e699-bbc5dcf7b68f"
      },
      "source": [
        "sns.lineplot(x='Survived', y='Fare', data=df)\n"
      ],
      "execution_count": 12,
      "outputs": [
        {
          "output_type": "execute_result",
          "data": {
            "text/plain": [
              "<matplotlib.axes._subplots.AxesSubplot at 0x7f04b37ebb38>"
            ]
          },
          "metadata": {
            "tags": []
          },
          "execution_count": 12
        },
        {
          "output_type": "display_data",
          "data": {
            "image/png": "[encoded data removed]",
            "text/plain": [
              "<Figure size 432x288 with 1 Axes>"
            ]
          },
          "metadata": {
            "tags": []
          }
        }
      ]
    },
    {
      "cell_type": "markdown",
      "metadata": {
        "id": "PxQUNxCdXWVF",
        "colab_type": "text"
      },
      "source": [
        "This line plot also paints a direct correlation between the amount paid and the chances of survival. The greater the money paid, the higher the chances!"
      ]
    }
  ]
}